{
 "cells": [
  {
   "cell_type": "code",
   "execution_count": 1,
   "id": "fed4ea92",
   "metadata": {},
   "outputs": [],
   "source": [
    "import mysql.connector as connection"
   ]
  },
  {
   "cell_type": "code",
   "execution_count": 2,
   "id": "ad10031a",
   "metadata": {},
   "outputs": [
    {
     "name": "stdout",
     "output_type": "stream",
     "text": [
      "Database Created!!\n"
     ]
    }
   ],
   "source": [
    "import mysql.connector as connection\n",
    "\n",
    "mydb = connection.connect(host= \"localhost\", user= \"root\", passwd= \"mysql\", use_pure= True)\n",
    "cur = mydb.cursor()\n",
    "cur.execute(\"create database if not exists ineuron_fsda\")\n",
    "print(\"Database Created!!\")\n",
    "mydb.close()"
   ]
  },
  {
   "cell_type": "code",
   "execution_count": 4,
   "id": "95157b92",
   "metadata": {},
   "outputs": [
    {
     "name": "stdout",
     "output_type": "stream",
     "text": [
      "Table Created!!\n"
     ]
    }
   ],
   "source": [
    "import mysql.connector as connection\n",
    "\n",
    "mydb = connection.connect(host= \"localhost\", database=\"ineuron_fsda\", user= \"root\", passwd= \"mysql\", use_pure= True)\n",
    "cur = mydb.cursor()\n",
    "cur.execute(\"create table if not exists bank_details(age int,job varchar(30),marital varchar(30),education varchar(30),`default` varchar(30),balance int , housing varchar(30),loan varchar(30) , contact varchar(30),`day` int,`month` varchar(30) , duration int , campaign int,pdays int , previous int , poutcome varchar(30) , y varchar(30))\")\n",
    "print(\"Table Created!!\")"
   ]
  },
  {
   "cell_type": "code",
   "execution_count": null,
   "id": "d3fb28a4",
   "metadata": {},
   "outputs": [],
   "source": [
    "#Try to find out avarage of balance"
   ]
  },
  {
   "cell_type": "code",
   "execution_count": 8,
   "id": "8e489818",
   "metadata": {},
   "outputs": [
    {
     "data": {
      "text/plain": [
       "[(Decimal('232.5000'),)]"
      ]
     },
     "execution_count": 8,
     "metadata": {},
     "output_type": "execute_result"
    }
   ],
   "source": [
    "mydb = connection.connect(host= \"localhost\", database=\"ineuron_fsda\", user= \"root\", passwd= \"mysql\", use_pure= True)\n",
    "cur = mydb.cursor()\n",
    "cur.execute(\"select avg(balance) from bank_details\")\n",
    "cur.fetchall()"
   ]
  },
  {
   "cell_type": "code",
   "execution_count": null,
   "id": "7965a795",
   "metadata": {},
   "outputs": [],
   "source": [
    "#try to find out who is having a min balance "
   ]
  },
  {
   "cell_type": "code",
   "execution_count": 22,
   "id": "41b49507",
   "metadata": {},
   "outputs": [
    {
     "data": {
      "text/plain": [
       "[(33,\n",
       "  'unknown',\n",
       "  'single',\n",
       "  'unknown',\n",
       "  'no',\n",
       "  1,\n",
       "  'no',\n",
       "  'no',\n",
       "  'unknown',\n",
       "  5,\n",
       "  'may',\n",
       "  198,\n",
       "  1,\n",
       "  -1,\n",
       "  0,\n",
       "  'unknown',\n",
       "  'no')]"
      ]
     },
     "execution_count": 22,
     "metadata": {},
     "output_type": "execute_result"
    }
   ],
   "source": [
    "mydb = connection.connect(host= \"localhost\", database=\"ineuron_fsda\", user= \"root\", passwd= \"mysql\", use_pure= True)\n",
    "cur = mydb.cursor()\n",
    "cur.execute(\"select * from bank_details where balance = (select min(balance) from bank_details)\")\n",
    "cur.fetchall()"
   ]
  },
  {
   "cell_type": "code",
   "execution_count": null,
   "id": "32c3a7fb",
   "metadata": {},
   "outputs": [],
   "source": [
    "#try to find out who is having a mazxmim balance"
   ]
  },
  {
   "cell_type": "code",
   "execution_count": 21,
   "id": "c9db1904",
   "metadata": {},
   "outputs": [
    {
     "data": {
      "text/plain": [
       "[(47,\n",
       "  'blue-collar',\n",
       "  'married',\n",
       "  'unknown',\n",
       "  'no',\n",
       "  1506,\n",
       "  'yes',\n",
       "  'no',\n",
       "  'unknown',\n",
       "  5,\n",
       "  'may',\n",
       "  92,\n",
       "  1,\n",
       "  -1,\n",
       "  0,\n",
       "  'unknown',\n",
       "  'no')]"
      ]
     },
     "execution_count": 21,
     "metadata": {},
     "output_type": "execute_result"
    }
   ],
   "source": [
    "mydb = connection.connect(host= \"localhost\", database=\"ineuron_fsda\", user= \"root\", passwd= \"mysql\", use_pure= True)\n",
    "cur = mydb.cursor()\n",
    "cur.execute(\"select * from bank_details where balance = (select max(balance) from bank_details)\")\n",
    "cur.fetchall()"
   ]
  },
  {
   "cell_type": "code",
   "execution_count": null,
   "id": "c4c67843",
   "metadata": {},
   "outputs": [],
   "source": [
    "#try to prepare a list of all the person who is having loan"
   ]
  },
  {
   "cell_type": "code",
   "execution_count": 14,
   "id": "6e986442",
   "metadata": {},
   "outputs": [
    {
     "data": {
      "text/plain": [
       "[(33,), (28,)]"
      ]
     },
     "execution_count": 14,
     "metadata": {},
     "output_type": "execute_result"
    }
   ],
   "source": [
    "mydb = connection.connect(host= \"localhost\", database=\"ineuron_fsda\", user= \"root\", passwd= \"mysql\", use_pure= True)\n",
    "cur = mydb.cursor()\n",
    "cur.execute(\"select age from bank_details where loan='yes'\")\n",
    "cur.fetchall()"
   ]
  },
  {
   "cell_type": "code",
   "execution_count": null,
   "id": "ae1b615e",
   "metadata": {},
   "outputs": [],
   "source": [
    "#try to find out average balance for all the people whose job role is admin"
   ]
  },
  {
   "cell_type": "code",
   "execution_count": 20,
   "id": "7933bdab",
   "metadata": {},
   "outputs": [
    {
     "data": {
      "text/plain": [
       "[(Decimal('224.3333'),)]"
      ]
     },
     "execution_count": 20,
     "metadata": {},
     "output_type": "execute_result"
    }
   ],
   "source": [
    "mydb = connection.connect(host= \"localhost\", database=\"ineuron_fsda\", user= \"root\", passwd= \"mysql\", use_pure= True)\n",
    "cur = mydb.cursor()\n",
    "cur.execute(\"select avg(balance) from bank_details where job = 'admin.'\")\n",
    "cur.fetchall()"
   ]
  },
  {
   "cell_type": "code",
   "execution_count": null,
   "id": "f666605c",
   "metadata": {},
   "outputs": [],
   "source": [
    "#try to find out a record  without job whose age is below 45 "
   ]
  },
  {
   "cell_type": "code",
   "execution_count": 23,
   "id": "6b93d2db",
   "metadata": {},
   "outputs": [
    {
     "data": {
      "text/plain": [
       "[(33,\n",
       "  'unknown',\n",
       "  'single',\n",
       "  'unknown',\n",
       "  'no',\n",
       "  1,\n",
       "  'no',\n",
       "  'no',\n",
       "  'unknown',\n",
       "  5,\n",
       "  'may',\n",
       "  198,\n",
       "  1,\n",
       "  -1,\n",
       "  0,\n",
       "  'unknown',\n",
       "  'no')]"
      ]
     },
     "execution_count": 23,
     "metadata": {},
     "output_type": "execute_result"
    }
   ],
   "source": [
    "mydb = connection.connect(host= \"localhost\", database=\"ineuron_fsda\", user= \"root\", passwd= \"mysql\", use_pure= True)\n",
    "cur = mydb.cursor()\n",
    "cur.execute(\"select * from bank_details where job = 'unknown' and age<45\")\n",
    "cur.fetchall()"
   ]
  },
  {
   "cell_type": "code",
   "execution_count": 24,
   "id": "97588663",
   "metadata": {},
   "outputs": [],
   "source": [
    "#try to find out a record where education is primarty and person is jobless"
   ]
  },
  {
   "cell_type": "code",
   "execution_count": 27,
   "id": "cdfb0d73",
   "metadata": {},
   "outputs": [
    {
     "name": "stdout",
     "output_type": "stream",
     "text": [
      "(58, 'retired', 'married', 'primary', 'no', 121, 'yes', 'no', 'unknown', 5, 'may', 50, 1, -1, 0, 'unknown', 'no')\n",
      "(51, 'retired', 'married', 'primary', 'no', 229, 'yes', 'no', 'unknown', 5, 'may', 353, 1, -1, 0, 'unknown', 'no')\n",
      "(60, 'retired', 'married', 'primary', 'no', 60, 'yes', 'no', 'unknown', 5, 'may', 219, 1, -1, 0, 'unknown', 'no')\n"
     ]
    }
   ],
   "source": [
    "mydb = connection.connect(host= \"localhost\", database=\"ineuron_fsda\", user= \"root\", passwd= \"mysql\", use_pure= True)\n",
    "cur = mydb.cursor()\n",
    "cur.execute(\"select * from bank_details where education = 'primary' and job='retired'\")\n",
    "data = cur.fetchall()\n",
    "for i in data:\n",
    "    print(i)"
   ]
  },
  {
   "cell_type": "code",
   "execution_count": 28,
   "id": "599d8a07",
   "metadata": {},
   "outputs": [],
   "source": [
    "#try to find of a record whose bank account is having a negative balance"
   ]
  },
  {
   "cell_type": "code",
   "execution_count": 31,
   "id": "6ff93485",
   "metadata": {},
   "outputs": [
    {
     "data": {
      "text/plain": [
       "[]"
      ]
     },
     "execution_count": 31,
     "metadata": {},
     "output_type": "execute_result"
    }
   ],
   "source": [
    "mydb = connection.connect(host= \"localhost\", database=\"ineuron_fsda\", user= \"root\", passwd= \"mysql\", use_pure= True)\n",
    "cur = mydb.cursor()\n",
    "cur.execute(\"select * from bank_details where balance<0\")\n",
    "cur.fetchall()"
   ]
  },
  {
   "cell_type": "code",
   "execution_count": 32,
   "id": "4b765e02",
   "metadata": {},
   "outputs": [],
   "source": [
    "#try to find our a record who is not having house at all along with there balance"
   ]
  },
  {
   "cell_type": "code",
   "execution_count": 33,
   "id": "a888db03",
   "metadata": {},
   "outputs": [
    {
     "data": {
      "text/plain": [
       "[(33,\n",
       "  'unknown',\n",
       "  'single',\n",
       "  'unknown',\n",
       "  'no',\n",
       "  1,\n",
       "  'no',\n",
       "  'no',\n",
       "  'unknown',\n",
       "  5,\n",
       "  'may',\n",
       "  198,\n",
       "  1,\n",
       "  -1,\n",
       "  0,\n",
       "  'unknown',\n",
       "  'no')]"
      ]
     },
     "execution_count": 33,
     "metadata": {},
     "output_type": "execute_result"
    }
   ],
   "source": [
    "mydb = connection.connect(host= \"localhost\", database=\"ineuron_fsda\", user= \"root\", passwd= \"mysql\", use_pure= True)\n",
    "cur = mydb.cursor()\n",
    "cur.execute(\"select * from bank_details where housing = 'no'\")\n",
    "cur.fetchall()"
   ]
  },
  {
   "cell_type": "code",
   "execution_count": null,
   "id": "934d81cb",
   "metadata": {},
   "outputs": [],
   "source": []
  }
 ],
 "metadata": {
  "kernelspec": {
   "display_name": "Python 3 (ipykernel)",
   "language": "python",
   "name": "python3"
  },
  "language_info": {
   "codemirror_mode": {
    "name": "ipython",
    "version": 3
   },
   "file_extension": ".py",
   "mimetype": "text/x-python",
   "name": "python",
   "nbconvert_exporter": "python",
   "pygments_lexer": "ipython3",
   "version": "3.9.7"
  }
 },
 "nbformat": 4,
 "nbformat_minor": 5
}
