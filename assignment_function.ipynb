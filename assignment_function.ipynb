{
 "cells": [
  {
   "cell_type": "markdown",
   "id": "7ea5a80f",
   "metadata": {},
   "source": [
    "#### q1 : Try to print a prime number in between 1 to 1000"
   ]
  },
  {
   "cell_type": "code",
   "execution_count": 7,
   "id": "5ef50ca4",
   "metadata": {},
   "outputs": [
    {
     "name": "stdout",
     "output_type": "stream",
     "text": [
      "Enter the range of Prime Numbers:\n",
      "1000\n",
      "1,2,3,5,7,11,13,17,19,23,29,31,37,41,43,47,53,59,61,67,71,73,79,83,89,97,101,103,107,109,113,127,131,137,139,149,151,157,163,167,173,179,181,191,193,197,199,211,223,227,229,233,239,241,251,257,263,269,271,277,281,283,293,307,311,313,317,331,337,347,349,353,359,367,373,379,383,389,397,401,409,419,421,431,433,439,443,449,457,461,463,467,479,487,491,499,503,509,521,523,541,547,557,563,569,571,577,587,593,599,601,607,613,617,619,631,641,643,647,653,659,661,673,677,683,691,701,709,719,727,733,739,743,751,757,761,769,773,787,797,809,811,821,823,827,829,839,853,857,859,863,877,881,883,887,907,911,919,929,937,941,947,953,967,971,977,983,991,997\n"
     ]
    }
   ],
   "source": [
    "n = int(input(\"Enter the range of Prime Numbers:\\n\"))\n",
    "prime_list = []\n",
    "for i in range(1,n):\n",
    "    prime = True\n",
    "    for j in range(2,i):\n",
    "        if(i%j == 0):\n",
    "            prime = False\n",
    "            \n",
    "    if(prime):\n",
    "        prime_list.append(i)\n",
    "        \n",
    "lenOfprimelist = len(prime_list)        \n",
    "for j,k in enumerate(prime_list):\n",
    "    if j<(lenOfprimelist-1):\n",
    "        print(k,end=\",\")\n",
    "    else:\n",
    "        print(k)"
   ]
  },
  {
   "cell_type": "markdown",
   "id": "2990abda",
   "metadata": {},
   "source": [
    "#### q2 : Try to write a function which  is equivalent  to print function in python"
   ]
  },
  {
   "cell_type": "code",
   "execution_count": 36,
   "id": "2ad824f9",
   "metadata": {},
   "outputs": [],
   "source": [
    "def print_fun(txt):\n",
    "     return txt \n",
    "    "
   ]
  },
  {
   "cell_type": "code",
   "execution_count": 37,
   "id": "d8436dc9",
   "metadata": {},
   "outputs": [
    {
     "data": {
      "text/plain": [
       "'Atanu'"
      ]
     },
     "execution_count": 37,
     "metadata": {},
     "output_type": "execute_result"
    }
   ],
   "source": [
    "print_fun(\"Atanu\")"
   ]
  },
  {
   "cell_type": "markdown",
   "id": "34a4e071",
   "metadata": {},
   "source": [
    "#### q4 : Try to write a lambda function which can return a concatination of all the string that we will pass"
   ]
  },
  {
   "cell_type": "code",
   "execution_count": 81,
   "id": "28ff6aee",
   "metadata": {},
   "outputs": [
    {
     "name": "stdout",
     "output_type": "stream",
     "text": [
      "adbf\n"
     ]
    }
   ],
   "source": [
    "def concat_txt(args):\n",
    "    txt = \"\"\n",
    "    for i in args:\n",
    "        txt = txt + i\n",
    "    print(txt)\n",
    "\n",
    "str_data = lambda *args : concat_txt(args)\n",
    "str_data(\"ad\",\"bf\")"
   ]
  },
  {
   "cell_type": "code",
   "execution_count": 85,
   "id": "bb2c682b",
   "metadata": {},
   "outputs": [
    {
     "name": "stdout",
     "output_type": "stream",
     "text": [
      "adbf\n"
     ]
    }
   ],
   "source": [
    "from functools import reduce\n",
    "b=\"\"\n",
    "data = lambda *args : [i for i in args]\n",
    "s = data(\"ad\",\"bf\")\n",
    "st = reduce((lambda x,y : x+y),s)\n",
    "print(st)"
   ]
  },
  {
   "cell_type": "markdown",
   "id": "02689218",
   "metadata": {},
   "source": [
    "#### q5 : Try to write a lambda function which can return list of square of all the data between 1-100 "
   ]
  },
  {
   "cell_type": "code",
   "execution_count": 1,
   "id": "3f499dcf",
   "metadata": {},
   "outputs": [
    {
     "data": {
      "text/plain": [
       "[1,\n",
       " 4,\n",
       " 9,\n",
       " 16,\n",
       " 25,\n",
       " 36,\n",
       " 49,\n",
       " 64,\n",
       " 81,\n",
       " 100,\n",
       " 121,\n",
       " 144,\n",
       " 169,\n",
       " 196,\n",
       " 225,\n",
       " 256,\n",
       " 289,\n",
       " 324,\n",
       " 361,\n",
       " 400,\n",
       " 441,\n",
       " 484,\n",
       " 529,\n",
       " 576,\n",
       " 625,\n",
       " 676,\n",
       " 729,\n",
       " 784,\n",
       " 841,\n",
       " 900,\n",
       " 961,\n",
       " 1024,\n",
       " 1089,\n",
       " 1156,\n",
       " 1225,\n",
       " 1296,\n",
       " 1369,\n",
       " 1444,\n",
       " 1521,\n",
       " 1600,\n",
       " 1681,\n",
       " 1764,\n",
       " 1849,\n",
       " 1936,\n",
       " 2025,\n",
       " 2116,\n",
       " 2209,\n",
       " 2304,\n",
       " 2401,\n",
       " 2500,\n",
       " 2601,\n",
       " 2704,\n",
       " 2809,\n",
       " 2916,\n",
       " 3025,\n",
       " 3136,\n",
       " 3249,\n",
       " 3364,\n",
       " 3481,\n",
       " 3600,\n",
       " 3721,\n",
       " 3844,\n",
       " 3969,\n",
       " 4096,\n",
       " 4225,\n",
       " 4356,\n",
       " 4489,\n",
       " 4624,\n",
       " 4761,\n",
       " 4900,\n",
       " 5041,\n",
       " 5184,\n",
       " 5329,\n",
       " 5476,\n",
       " 5625,\n",
       " 5776,\n",
       " 5929,\n",
       " 6084,\n",
       " 6241,\n",
       " 6400,\n",
       " 6561,\n",
       " 6724,\n",
       " 6889,\n",
       " 7056,\n",
       " 7225,\n",
       " 7396,\n",
       " 7569,\n",
       " 7744,\n",
       " 7921,\n",
       " 8100,\n",
       " 8281,\n",
       " 8464,\n",
       " 8649,\n",
       " 8836,\n",
       " 9025,\n",
       " 9216,\n",
       " 9409,\n",
       " 9604,\n",
       " 9801]"
      ]
     },
     "execution_count": 1,
     "metadata": {},
     "output_type": "execute_result"
    }
   ],
   "source": [
    "sqr = lambda x : [i**2 for i in range(1,x)]\n",
    "sqr(100)"
   ]
  },
  {
   "cell_type": "markdown",
   "id": "3c3e98b2",
   "metadata": {},
   "source": [
    "#### q6 : Try to write a 10 Different different example of lambda function with a choice of your taks "
   ]
  },
  {
   "cell_type": "code",
   "execution_count": 86,
   "id": "7dd477a4",
   "metadata": {},
   "outputs": [
    {
     "data": {
      "text/plain": [
       "125"
      ]
     },
     "execution_count": 86,
     "metadata": {},
     "output_type": "execute_result"
    }
   ],
   "source": [
    "# Example_1\n",
    "lambda_cube = lambda y: y*y*y\n",
    "lambda_cube(5)"
   ]
  },
  {
   "cell_type": "code",
   "execution_count": 97,
   "id": "77e6be9b",
   "metadata": {},
   "outputs": [
    {
     "name": "stdout",
     "output_type": "stream",
     "text": [
      "10\n",
      "20\n",
      "30\n",
      "40\n",
      "50\n",
      "60\n",
      "70\n",
      "80\n",
      "90\n",
      "100\n"
     ]
    }
   ],
   "source": [
    "# Example_2\n",
    "tables = [lambda x=x: x*10 for x in range(1, 11)]\n",
    "  \n",
    "for table in tables:\n",
    "    print(table())"
   ]
  },
  {
   "cell_type": "code",
   "execution_count": 99,
   "id": "feb124b4",
   "metadata": {},
   "outputs": [
    {
     "name": "stdout",
     "output_type": "stream",
     "text": [
      "2\n"
     ]
    }
   ],
   "source": [
    "# Example_3\n",
    "# Example of lambda function using if-else\n",
    "Max = lambda a, b : a if(a > b) else b\n",
    "print(Max(1, 2))"
   ]
  },
  {
   "cell_type": "code",
   "execution_count": 100,
   "id": "340d17a9",
   "metadata": {},
   "outputs": [
    {
     "name": "stdout",
     "output_type": "stream",
     "text": [
      "[5, 7, 97, 77, 23, 73, 61]\n"
     ]
    }
   ],
   "source": [
    "# Example_4\n",
    "li = [5, 7, 22, 97, 54, 62, 77, 23, 73, 61]\n",
    "  \n",
    "final_list = list(filter(lambda x: (x%2 != 0) , li))\n",
    "print(final_list)"
   ]
  },
  {
   "cell_type": "code",
   "execution_count": 1,
   "id": "983cb3c4",
   "metadata": {},
   "outputs": [
    {
     "data": {
      "text/plain": [
       "420"
      ]
     },
     "execution_count": 1,
     "metadata": {},
     "output_type": "execute_result"
    }
   ],
   "source": [
    "# Example_5\n",
    "highr_ord_fun = lambda x ,fun : x + fun(x)\n",
    "highr_ord_fun(20, lambda x: x*x)"
   ]
  },
  {
   "cell_type": "code",
   "execution_count": 3,
   "id": "4a81482b",
   "metadata": {},
   "outputs": [
    {
     "data": {
      "text/plain": [
       "'even'"
      ]
     },
     "execution_count": 3,
     "metadata": {},
     "output_type": "execute_result"
    }
   ],
   "source": [
    "# Example_6\n",
    "(lambda x: (x%2 and 'odd' or 'even'))(16)"
   ]
  },
  {
   "cell_type": "code",
   "execution_count": 5,
   "id": "0eea0295",
   "metadata": {},
   "outputs": [
    {
     "name": "stdout",
     "output_type": "stream",
     "text": [
      "False\n"
     ]
    }
   ],
   "source": [
    "# Example_7\n",
    "sub_string = lambda string : string in \"Full Stack Data Science Bootcamp\"\n",
    "print(sub_string('Python'))"
   ]
  },
  {
   "cell_type": "code",
   "execution_count": 7,
   "id": "c64d5418",
   "metadata": {},
   "outputs": [
    {
     "name": "stdout",
     "output_type": "stream",
     "text": [
      "[15, 12, 21, 25, 20]\n"
     ]
    }
   ],
   "source": [
    "# Example_8\n",
    "num_list = [10,15,12,21,25,8,20]\n",
    "\n",
    "greater = list(filter(lambda num : num>11, num_list))\n",
    "print(greater)"
   ]
  },
  {
   "cell_type": "code",
   "execution_count": 8,
   "id": "fd3663d1",
   "metadata": {},
   "outputs": [
    {
     "name": "stdout",
     "output_type": "stream",
     "text": [
      "[20, 30, 40, 50, 60]\n"
     ]
    }
   ],
   "source": [
    "# Example_9\n",
    "num_list = [10,15,20,25,30]\n",
    "\n",
    "doubl_num = list(map(lambda x : x*2,num_list))\n",
    "print(doubl_num)"
   ]
  },
  {
   "cell_type": "code",
   "execution_count": 9,
   "id": "b9a3100a",
   "metadata": {},
   "outputs": [
    {
     "name": "stdout",
     "output_type": "stream",
     "text": [
      "193\n"
     ]
    }
   ],
   "source": [
    "# Example_10\n",
    "from functools import reduce\n",
    "li = [5, 8, 10, 20, 50, 100]\n",
    "sum = reduce((lambda x, y: x + y), li)\n",
    "print (sum)"
   ]
  },
  {
   "cell_type": "markdown",
   "id": "55e8b809",
   "metadata": {},
   "source": [
    "#### q7 : Try to wwrite a funtion whihc can perform a read operation from .txt file "
   ]
  },
  {
   "cell_type": "code",
   "execution_count": 29,
   "id": "d2b99ef9",
   "metadata": {},
   "outputs": [],
   "source": [
    "def read_file(file):\n",
    "    with open(file,'r') as f:\n",
    "        print(f.read())"
   ]
  },
  {
   "cell_type": "code",
   "execution_count": 30,
   "id": "5aebb2fb",
   "metadata": {},
   "outputs": [
    {
     "name": "stdout",
     "output_type": "stream",
     "text": [
      "My Name is Atanu Kundu\n"
     ]
    }
   ],
   "source": [
    "read_file(\"Atanu.txt\")"
   ]
  }
 ],
 "metadata": {
  "kernelspec": {
   "display_name": "Python 3 (ipykernel)",
   "language": "python",
   "name": "python3"
  },
  "language_info": {
   "codemirror_mode": {
    "name": "ipython",
    "version": 3
   },
   "file_extension": ".py",
   "mimetype": "text/x-python",
   "name": "python",
   "nbconvert_exporter": "python",
   "pygments_lexer": "ipython3",
   "version": "3.9.7"
  }
 },
 "nbformat": 4,
 "nbformat_minor": 5
}
