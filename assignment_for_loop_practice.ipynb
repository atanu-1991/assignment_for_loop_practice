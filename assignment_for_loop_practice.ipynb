{
 "cells": [
  {
   "cell_type": "code",
   "execution_count": 2,
   "id": "3d61d99e",
   "metadata": {},
   "outputs": [
    {
     "name": "stdout",
     "output_type": "stream",
     "text": [
      "ineuron \n",
      "ineuron ineuron \n",
      "ineuron ineuron ineuron \n",
      "ineuron ineuron ineuron ineuron \n"
     ]
    }
   ],
   "source": [
    "# q1:\n",
    "for i in range(4):\n",
    "    print(\"ineuron \" *(i+1))"
   ]
  },
  {
   "cell_type": "code",
   "execution_count": 10,
   "id": "4351b5be",
   "metadata": {},
   "outputs": [
    {
     "name": "stdout",
     "output_type": "stream",
     "text": [
      "\t\tineuron \t\n",
      "\tineuron \tineuron \t\n",
      "ineuron \tineuron \tineuron \t\n",
      "\tineuron \tineuron \t\n",
      "\t\tineuron \t\n"
     ]
    }
   ],
   "source": [
    "# q2:\n",
    "for i in range(3):\n",
    "    print(\"\\t\"*(3-i-1),end=\"\")\n",
    "    print(\"ineuron \\t\"*(i+1))\n",
    "    m = 2\n",
    "for i in range(2):\n",
    "    print(\"\\t\"*(i+1),end=\"\")\n",
    "    print(\"ineuron \\t\"*m)\n",
    "    m = m -1"
   ]
  },
  {
   "cell_type": "code",
   "execution_count": 11,
   "id": "fdbd5ccf",
   "metadata": {},
   "outputs": [
    {
     "name": "stdout",
     "output_type": "stream",
     "text": [
      "[1, 2, 3, 4]\n",
      "['ineuron', 'data science ']\n"
     ]
    }
   ],
   "source": [
    "# q3:\n",
    "l = [[1,2,3,4] , (2,3,4,5,6) , (3,4,5,6,7) , set([23,4,5,45,4,4,5,45,45,4,5]) , {'k1' :\"sudh\" , \"k2\" : \"ineuron\",\"k3\":\n",
    "            \"kumar\" , 3:6 , 7:8} , [\"ineuron\" , \"data science \"]]\n",
    "\n",
    "for i in l:\n",
    "    if type(i) == list:\n",
    "        print(i)"
   ]
  },
  {
   "cell_type": "code",
   "execution_count": 12,
   "id": "85e23c86",
   "metadata": {},
   "outputs": [
    {
     "name": "stdout",
     "output_type": "stream",
     "text": [
      "{'k1': 'sudh', 'k2': 'ineuron', 'k3': 'kumar', 3: 6, 7: 8}\n"
     ]
    }
   ],
   "source": [
    "# q4:\n",
    "for i in l:\n",
    "    if type(i) == dict:\n",
    "        print(i)"
   ]
  },
  {
   "cell_type": "code",
   "execution_count": 13,
   "id": "4ba445fc",
   "metadata": {},
   "outputs": [
    {
     "name": "stdout",
     "output_type": "stream",
     "text": [
      "(2, 3, 4, 5, 6)\n",
      "(3, 4, 5, 6, 7)\n"
     ]
    }
   ],
   "source": [
    "# q5:\n",
    "for i in l:\n",
    "    if type(i) == tuple:\n",
    "        print(i)"
   ]
  },
  {
   "cell_type": "code",
   "execution_count": 29,
   "id": "5d1816d8",
   "metadata": {},
   "outputs": [
    {
     "name": "stdout",
     "output_type": "stream",
     "text": [
      "1\n",
      "2\n",
      "3\n",
      "4\n",
      "2\n",
      "3\n",
      "4\n",
      "5\n",
      "6\n",
      "3\n",
      "4\n",
      "5\n",
      "6\n",
      "7\n",
      "45\n",
      "4\n",
      "5\n",
      "23\n",
      "6\n",
      "8\n",
      "Sum= 146\n"
     ]
    }
   ],
   "source": [
    "# q6 , q7:\n",
    "l = [[1,2,3,4] , (2,3,4,5,6) , (3,4,5,6,7) , set([23,4,5,45,4,4,5,45,45,4,5]) , {'k1' :\"sudh\" , \"k2\" : \"ineuron\",\"k3\":\n",
    "            \"kumar\" , 3:6 , 7:8} , [\"ineuron\" , \"data science \"]]\n",
    "\n",
    "sum = 0\n",
    "\n",
    "for i in l:\n",
    "    if type(i) == list or type(i) == tuple or type(i) == set:\n",
    "        for j in i:\n",
    "            if type(j) == int:\n",
    "                print(j)\n",
    "                sum = sum + j\n",
    "                \n",
    "    if type(i) == dict:\n",
    "        for k,v in i.items():\n",
    "            if type(v) == int:\n",
    "                print(v)\n",
    "                sum = sum + v\n",
    "\n",
    "                \n",
    "print(\"Sum=\",sum)\n",
    "# for j in l:\n",
    "#     if type(j) == set:\n",
    "#         print(j)\n",
    "\n",
    "# another trick to fetch value from dictionary\n",
    "# for j in d.items():\n",
    "#     if type(j[1])== int:\n",
    "#         print(j[1])\n",
    "        "
   ]
  },
  {
   "cell_type": "code",
   "execution_count": 12,
   "id": "f60d9e3a",
   "metadata": {},
   "outputs": [
    {
     "name": "stdout",
     "output_type": "stream",
     "text": [
      "[[2, 4]]\n"
     ]
    }
   ],
   "source": [
    "# q8:\n",
    "l = [[1,2,3,4] , (2,3,4,5,6) , (3,4,5,6,7) , set([23,4,5,45,4,4,5,45,45,4,5]) , {'k1' :\"sudh\" , \"k2\" : \"ineuron\",\"k3\":\n",
    "            \"kumar\" , 3:6 , 7:8} , [\"ineuron\" , \"data science \"]]\n",
    "main_list = []\n",
    "odd_list = []\n",
    "for i in l:\n",
    "    if type(i) == list:\n",
    "        odd_list = []\n",
    "        for j in i:\n",
    "            if type(j) == int:\n",
    "                if (j%2 != 1):\n",
    "                    odd_list.append(j)\n",
    "\n",
    "        \n",
    "        if(len(odd_list) == 0):\n",
    "            odd_list.clear()\n",
    "        else:\n",
    "            main_list.append(odd_list)\n",
    "                        \n",
    "print(main_list)\n",
    "            "
   ]
  },
  {
   "cell_type": "code",
   "execution_count": 13,
   "id": "a471945d",
   "metadata": {},
   "outputs": [
    {
     "name": "stdout",
     "output_type": "stream",
     "text": [
      "ineuron\n",
      "ineuron\n"
     ]
    }
   ],
   "source": [
    "# q9:\n",
    "l = [[1,2,3,4] , (2,3,4,5,6) , (3,4,5,6,7) , set([23,4,5,45,4,4,5,45,45,4,5]) , {'k1' :\"sudh\" , \"k2\" : \"ineuron\",\"k3\":\n",
    "            \"kumar\" , 3:6 , 7:8} , [\"ineuron\" , \"data science \"]]\n",
    "\n",
    "for i in l:\n",
    "    if type(i) == list:\n",
    "        for j in i:\n",
    "            if j == \"ineuron\":\n",
    "                print(j)\n",
    "                \n",
    "    \n",
    "    if type(i) == dict:\n",
    "        for k,v in i.items():\n",
    "            if v == \"ineuron\":\n",
    "                print(v)\n",
    "                "
   ]
  },
  {
   "cell_type": "code",
   "execution_count": 26,
   "id": "b8ba34ec",
   "metadata": {},
   "outputs": [
    {
     "name": "stdout",
     "output_type": "stream",
     "text": [
      "1 : 1\n",
      "2 : 2\n",
      "3 : 3\n",
      "4 : 4\n",
      "5 : 3\n",
      "6 : 3\n",
      "7 : 1\n",
      "8 : 1\n",
      "45 : 1\n",
      "23 : 1\n",
      "ineuron : 2\n",
      "data science  : 1\n",
      "kumar : 1\n",
      "sudh : 1\n"
     ]
    }
   ],
   "source": [
    "# q10:\n",
    "l = [[1,2,3,4] , (2,3,4,5,6) , (3,4,5,6,7) , set([23,4,5,45,4,4,5,45,45,4,5]) , {'k1' :\"sudh\" , \"k2\" : \"ineuron\",\"k3\":\n",
    "            \"kumar\" , 3:6 , 7:8} , [\"ineuron\" , \"data science \"]]\n",
    "\n",
    "num_list = []\n",
    "txt_list = []\n",
    "for i in l:\n",
    "    if type(i) == list or type(i) == tuple or type(i) == set:\n",
    "        for j in i:\n",
    "            if type(j) == int:\n",
    "                num_list.append(j)\n",
    "            else:\n",
    "                txt_list.append(j)\n",
    "                \n",
    "                \n",
    "    if type(i) == dict:\n",
    "        for k,v in i.items():\n",
    "            if type(v) == int:\n",
    "                num_list.append(v)\n",
    "            else:\n",
    "                txt_list.append(v)\n",
    "                \n",
    "# print(num_list)       \n",
    "# print(txt_list)\n",
    "\n",
    "for num in set(num_list):\n",
    "    print(num  , \":\" , num_list.count(num))\n",
    "for txt in set(txt_list):\n",
    "    print(txt  , \":\" , txt_list.count(txt))"
   ]
  },
  {
   "cell_type": "code",
   "execution_count": 28,
   "id": "7b4ab960",
   "metadata": {},
   "outputs": [
    {
     "name": "stdout",
     "output_type": "stream",
     "text": [
      "Number of keys in dict element is 5\n"
     ]
    }
   ],
   "source": [
    "# q11:\n",
    "l = [[1,2,3,4] , (2,3,4,5,6) , (3,4,5,6,7) , set([23,4,5,45,4,4,5,45,45,4,5]) , {'k1' :\"sudh\" , \"k2\" : \"ineuron\",\"k3\":\n",
    "            \"kumar\" , 3:6 , 7:8} , [\"ineuron\" , \"data science \"]]\n",
    "\n",
    "for i in l:\n",
    "    if type(i) == dict:\n",
    "        print(\"Number of keys in dict element is\",len(i))\n",
    "    "
   ]
  },
  {
   "cell_type": "code",
   "execution_count": 29,
   "id": "4ba42d32",
   "metadata": {},
   "outputs": [
    {
     "name": "stdout",
     "output_type": "stream",
     "text": [
      "sudh\n",
      "ineuron\n",
      "kumar\n",
      "ineuron\n",
      "data science \n"
     ]
    }
   ],
   "source": [
    "# q12:\n",
    "l = [[1,2,3,4] , (2,3,4,5,6) , (3,4,5,6,7) , set([23,4,5,45,4,4,5,45,45,4,5]) , {'k1' :\"sudh\" , \"k2\" : \"ineuron\",\"k3\":\n",
    "            \"kumar\" , 3:6 , 7:8} , [\"ineuron\" , \"data science \"]]\n",
    "\n",
    "for i in l:\n",
    "    if type(i) == list or type(i) == tuple or type(i) == set:\n",
    "        for j in i:\n",
    "            if type(j) == str:\n",
    "                print(j)\n",
    "                \n",
    "                \n",
    "    if type(i) == dict:\n",
    "        for k,v in i.items():\n",
    "            if type(v) == str:\n",
    "                print(v)"
   ]
  },
  {
   "cell_type": "code",
   "execution_count": 18,
   "id": "3870f640",
   "metadata": {},
   "outputs": [
    {
     "name": "stdout",
     "output_type": "stream",
     "text": [
      "k1\n",
      "k2\n",
      "k3\n"
     ]
    }
   ],
   "source": [
    "# q13:\n",
    "l = [[1,2,3,4] , (2,3,4,5,6) , (3,4,5,6,7) , set([23,4,5,45,4,4,5,45,45,4,5]) , {'k1' :\"sudh\" , \"k2\" : \"ineuron\",\"k3\":\n",
    "            \"kumar\" , 3:6 , 7:8} , [\"ineuron\" , \"data science \"]]\n",
    "\n",
    "for i in l:\n",
    "    if type(i) == list or type(i) == tuple or type(i) == set:\n",
    "        for j in i:\n",
    "            if (type(j) == str):\n",
    "                if(j.startswith(str(j)) and j[1:].isdigit()):\n",
    "                    print(j)\n",
    "                \n",
    "                         \n",
    "                \n",
    "    if type(i) == dict:\n",
    "        for k,v in i.items():\n",
    "            if type(k) == str:\n",
    "                if(k.startswith(str(k)) and k[1:].isdigit()):\n",
    "                    print(k)\n",
    "            if type(v) == str:\n",
    "                if(v.startswith(str(v)) and v[1:].isdigit()):\n",
    "                    print(v)"
   ]
  },
  {
   "cell_type": "code",
   "execution_count": 24,
   "id": "6c522ed6",
   "metadata": {},
   "outputs": [
    {
     "name": "stdout",
     "output_type": "stream",
     "text": [
      "24\n",
      "720\n",
      "2520\n",
      "20700\n",
      "48\n",
      "\n"
     ]
    }
   ],
   "source": [
    "# q14:\n",
    "l = [[1,2,3,4] , (2,3,4,5,6) , (3,4,5,6,7) , set([23,4,5,45,4,4,5,45,45,4,5]) , {'k1' :\"sudh\" , \"k2\" : \"ineuron\",\"k3\":\n",
    "            \"kumar\" , 3:6 , 7:8} , [\"ineuron\" , \"data science \"]]\n",
    "\n",
    "\n",
    "for i in l:\n",
    "    if type(i) == list or type(i) == tuple or type(i) == set:\n",
    "        mul = 1\n",
    "        for j in i:\n",
    "            if type(j) == int:\n",
    "                mul = mul * j\n",
    "            else:\n",
    "                mul = \"\"\n",
    "        print(mul)\n",
    "        \n",
    "    if type(i) == dict:\n",
    "        mul = 1\n",
    "        for k,v in i.items():\n",
    "            if type(v) == int:\n",
    "                mul = mul * v\n",
    "        print(mul)\n",
    "                "
   ]
  },
  {
   "cell_type": "code",
   "execution_count": 25,
   "id": "9161c5ba",
   "metadata": {},
   "outputs": [
    {
     "name": "stdout",
     "output_type": "stream",
     "text": [
      "[1, 2, 3, 4, 2, 3, 4, 5, 6, 3, 4, 5, 6, 7, 45, 4, 5, 23, 'sudh', 'ineuron', 'kumar', 6, 8, 'ineuron', 'data science ']\n"
     ]
    }
   ],
   "source": [
    "# q15:\n",
    "l = [[1,2,3,4] , (2,3,4,5,6) , (3,4,5,6,7) , set([23,4,5,45,4,4,5,45,45,4,5]) , {'k1' :\"sudh\" , \"k2\" : \"ineuron\",\"k3\":\n",
    "            \"kumar\" , 3:6 , 7:8} , [\"ineuron\" , \"data science \"]]\n",
    "\n",
    "new_list = []\n",
    "\n",
    "for i in l:\n",
    "    if type(i) == list or type(i) == tuple or type(i) == set:\n",
    "        for j in i:\n",
    "            new_list.append(j)\n",
    "     \n",
    "    if type(i) == dict:\n",
    "        for k,v in i.items():\n",
    "            new_list.append(v)\n",
    "            \n",
    "print(new_list)"
   ]
  },
  {
   "cell_type": "code",
   "execution_count": null,
   "id": "6f81bc46",
   "metadata": {},
   "outputs": [],
   "source": []
  }
 ],
 "metadata": {
  "kernelspec": {
   "display_name": "Python 3 (ipykernel)",
   "language": "python",
   "name": "python3"
  },
  "language_info": {
   "codemirror_mode": {
    "name": "ipython",
    "version": 3
   },
   "file_extension": ".py",
   "mimetype": "text/x-python",
   "name": "python",
   "nbconvert_exporter": "python",
   "pygments_lexer": "ipython3",
   "version": "3.9.7"
  }
 },
 "nbformat": 4,
 "nbformat_minor": 5
}
