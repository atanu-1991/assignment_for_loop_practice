{
 "cells": [
  {
   "cell_type": "code",
   "execution_count": 1,
   "id": "ea3a9ed9",
   "metadata": {},
   "outputs": [],
   "source": [
    "s = \"this is My First Python programming class and i am learNING python string and its function\""
   ]
  },
  {
   "cell_type": "markdown",
   "id": "532dc251",
   "metadata": {},
   "source": [
    "#### 1 .Try to extract data from index one to index 300 with a jump of 3 "
   ]
  },
  {
   "cell_type": "code",
   "execution_count": 4,
   "id": "47f83082",
   "metadata": {},
   "outputs": [
    {
     "data": {
      "text/plain": [
       "'h   r tnrrmglsnimeNGyosi dtfco'"
      ]
     },
     "execution_count": 4,
     "metadata": {},
     "output_type": "execute_result"
    }
   ],
   "source": [
    "s[1:300:3]"
   ]
  },
  {
   "cell_type": "markdown",
   "id": "e6cc5a7c",
   "metadata": {},
   "source": [
    "#### 2.Try to reverse a string without using reverse function "
   ]
  },
  {
   "cell_type": "code",
   "execution_count": 5,
   "id": "5ccc8953",
   "metadata": {},
   "outputs": [
    {
     "data": {
      "text/plain": [
       "'noitcnuf sti dna gnirts nohtyp GNINrael ma i dna ssalc gnimmargorp nohtyP tsriF yM si siht'"
      ]
     },
     "execution_count": 5,
     "metadata": {},
     "output_type": "execute_result"
    }
   ],
   "source": [
    "s[-1::-1]"
   ]
  },
  {
   "cell_type": "markdown",
   "id": "79dec857",
   "metadata": {},
   "source": [
    "#### 3.Try to split a string after conversion of entire string in uppercase "
   ]
  },
  {
   "cell_type": "code",
   "execution_count": 7,
   "id": "ce5f73a4",
   "metadata": {},
   "outputs": [],
   "source": [
    "s1 = s.upper()"
   ]
  },
  {
   "cell_type": "code",
   "execution_count": 8,
   "id": "dcec6853",
   "metadata": {},
   "outputs": [
    {
     "data": {
      "text/plain": [
       "'THIS IS MY FIRST PYTHON PROGRAMMING CLASS AND I AM LEARNING PYTHON STRING AND ITS FUNCTION'"
      ]
     },
     "execution_count": 8,
     "metadata": {},
     "output_type": "execute_result"
    }
   ],
   "source": [
    "s1"
   ]
  },
  {
   "cell_type": "code",
   "execution_count": 10,
   "id": "0fba1708",
   "metadata": {},
   "outputs": [
    {
     "data": {
      "text/plain": [
       "['THIS',\n",
       " 'IS',\n",
       " 'MY',\n",
       " 'FIRST',\n",
       " 'PYTHON',\n",
       " 'PROGRAMMING',\n",
       " 'CLASS',\n",
       " 'AND',\n",
       " 'I',\n",
       " 'AM',\n",
       " 'LEARNING',\n",
       " 'PYTHON',\n",
       " 'STRING',\n",
       " 'AND',\n",
       " 'ITS',\n",
       " 'FUNCTION']"
      ]
     },
     "execution_count": 10,
     "metadata": {},
     "output_type": "execute_result"
    }
   ],
   "source": [
    "s1.split(' ')"
   ]
  },
  {
   "cell_type": "markdown",
   "id": "6b7d8779",
   "metadata": {},
   "source": [
    "#### 4.try to convert the whole string into lower case "
   ]
  },
  {
   "cell_type": "code",
   "execution_count": 11,
   "id": "fe01fce1",
   "metadata": {},
   "outputs": [],
   "source": [
    "s2 = s.lower()"
   ]
  },
  {
   "cell_type": "code",
   "execution_count": 12,
   "id": "2f98588d",
   "metadata": {},
   "outputs": [
    {
     "data": {
      "text/plain": [
       "'this is my first python programming class and i am learning python string and its function'"
      ]
     },
     "execution_count": 12,
     "metadata": {},
     "output_type": "execute_result"
    }
   ],
   "source": [
    "s2"
   ]
  },
  {
   "cell_type": "markdown",
   "id": "e4fcd531",
   "metadata": {},
   "source": [
    "#### 5.Try to capitalize the whole string "
   ]
  },
  {
   "cell_type": "code",
   "execution_count": 14,
   "id": "ac6755bf",
   "metadata": {},
   "outputs": [],
   "source": [
    "s3 = s.capitalize()"
   ]
  },
  {
   "cell_type": "code",
   "execution_count": 15,
   "id": "cdeac9f8",
   "metadata": {},
   "outputs": [
    {
     "data": {
      "text/plain": [
       "'This is my first python programming class and i am learning python string and its function'"
      ]
     },
     "execution_count": 15,
     "metadata": {},
     "output_type": "execute_result"
    }
   ],
   "source": [
    "s3"
   ]
  },
  {
   "cell_type": "markdown",
   "id": "3367e2d1",
   "metadata": {},
   "source": [
    "#### 6.Write a diference between isalnum() and isalpha()"
   ]
  },
  {
   "cell_type": "markdown",
   "id": "867d7a05",
   "metadata": {},
   "source": [
    "isalnum() - this function check whether the string is alpha or numeric\n",
    "\n",
    "isalpha() - this functioon check whether the string is alphabate or not"
   ]
  },
  {
   "cell_type": "markdown",
   "id": "ae153d00",
   "metadata": {},
   "source": [
    "#### 7.Try to give an example of expand tab"
   ]
  },
  {
   "cell_type": "code",
   "execution_count": 16,
   "id": "17f1df9f",
   "metadata": {},
   "outputs": [],
   "source": [
    "s4 = 'My\\tname\\tis\\tAtanu\\tKundu'"
   ]
  },
  {
   "cell_type": "code",
   "execution_count": 17,
   "id": "2d7bd76d",
   "metadata": {},
   "outputs": [
    {
     "data": {
      "text/plain": [
       "'My      name    is      Atanu   Kundu'"
      ]
     },
     "execution_count": 17,
     "metadata": {},
     "output_type": "execute_result"
    }
   ],
   "source": [
    "s4.expandtabs()"
   ]
  },
  {
   "cell_type": "markdown",
   "id": "38cdc68b",
   "metadata": {},
   "source": [
    "#### 8.Give an example of strip , lstrip and rstrip "
   ]
  },
  {
   "cell_type": "code",
   "execution_count": 18,
   "id": "dadccd2c",
   "metadata": {},
   "outputs": [],
   "source": [
    "s5 = \" Atanu Kundu \""
   ]
  },
  {
   "cell_type": "code",
   "execution_count": 19,
   "id": "15d0a807",
   "metadata": {},
   "outputs": [
    {
     "data": {
      "text/plain": [
       "'Atanu Kundu'"
      ]
     },
     "execution_count": 19,
     "metadata": {},
     "output_type": "execute_result"
    }
   ],
   "source": [
    "s5.strip()"
   ]
  },
  {
   "cell_type": "code",
   "execution_count": 20,
   "id": "bd591b66",
   "metadata": {},
   "outputs": [
    {
     "data": {
      "text/plain": [
       "'Atanu Kundu '"
      ]
     },
     "execution_count": 20,
     "metadata": {},
     "output_type": "execute_result"
    }
   ],
   "source": [
    "s5.lstrip()"
   ]
  },
  {
   "cell_type": "code",
   "execution_count": 21,
   "id": "8d1c0565",
   "metadata": {},
   "outputs": [
    {
     "data": {
      "text/plain": [
       "' Atanu Kundu'"
      ]
     },
     "execution_count": 21,
     "metadata": {},
     "output_type": "execute_result"
    }
   ],
   "source": [
    "s5.rstrip()"
   ]
  },
  {
   "cell_type": "markdown",
   "id": "262a8765",
   "metadata": {},
   "source": [
    "#### 9.Replace a string charecter by another charector by taking your own example \"sudhanshu\""
   ]
  },
  {
   "cell_type": "code",
   "execution_count": 22,
   "id": "2a1d25dd",
   "metadata": {},
   "outputs": [],
   "source": [
    "s6 = \"sudhanshu\""
   ]
  },
  {
   "cell_type": "code",
   "execution_count": 23,
   "id": "9a43627f",
   "metadata": {},
   "outputs": [
    {
     "data": {
      "text/plain": [
       "'atanu'"
      ]
     },
     "execution_count": 23,
     "metadata": {},
     "output_type": "execute_result"
    }
   ],
   "source": [
    "s6.replace(\"sudhanshu\",\"atanu\")"
   ]
  },
  {
   "cell_type": "markdown",
   "id": "0c7d6f14",
   "metadata": {},
   "source": [
    "#### 10.Try  to give a defination of string center function with and exmple "
   ]
  },
  {
   "cell_type": "code",
   "execution_count": 24,
   "id": "e22e3062",
   "metadata": {},
   "outputs": [],
   "source": [
    "s7 = \" atanu \""
   ]
  },
  {
   "cell_type": "code",
   "execution_count": 26,
   "id": "a70eca19",
   "metadata": {},
   "outputs": [
    {
     "data": {
      "text/plain": [
       "'* atanu **'"
      ]
     },
     "execution_count": 26,
     "metadata": {},
     "output_type": "execute_result"
    }
   ],
   "source": [
    "s7.center(10, \"*\")"
   ]
  },
  {
   "cell_type": "markdown",
   "id": "b5d49eee",
   "metadata": {},
   "source": [
    "#### 11.Write your own definition of compiler and interpretor without copy paste form internet in your own language"
   ]
  },
  {
   "cell_type": "markdown",
   "id": "a8861435",
   "metadata": {},
   "source": [
    "compiler - compiler converts the source code into machine language(byte code)\n",
    "\n",
    "interpreter - interpreter runs the machine code according to system like windows,linux,mac etc."
   ]
  },
  {
   "cell_type": "markdown",
   "id": "43cb6a6d",
   "metadata": {},
   "source": [
    "#### 12.Python is a interpreted of compiled language give a clear ans with your understanding "
   ]
  },
  {
   "cell_type": "markdown",
   "id": "50b000d4",
   "metadata": {},
   "source": [
    "Python is interpreted of compiled language bcause first the code is converted into machine language then it interpret machine code according to system"
   ]
  },
  {
   "cell_type": "markdown",
   "id": "af6e0146",
   "metadata": {},
   "source": [
    "#### 13.Try to write a usecase of python with your understanding ."
   ]
  },
  {
   "cell_type": "markdown",
   "id": "1d7c2187",
   "metadata": {},
   "source": [
    "the usecase of python is-\n",
    "\n",
    "1.web development\n",
    "\n",
    "2.Data Science\n",
    "\n",
    "3.Software Development\n",
    "\n",
    "4.Game Development\n",
    "\n",
    "5.AI application"
   ]
  }
 ],
 "metadata": {
  "kernelspec": {
   "display_name": "Python 3 (ipykernel)",
   "language": "python",
   "name": "python3"
  },
  "language_info": {
   "codemirror_mode": {
    "name": "ipython",
    "version": 3
   },
   "file_extension": ".py",
   "mimetype": "text/x-python",
   "name": "python",
   "nbconvert_exporter": "python",
   "pygments_lexer": "ipython3",
   "version": "3.9.13"
  }
 },
 "nbformat": 4,
 "nbformat_minor": 5
}
